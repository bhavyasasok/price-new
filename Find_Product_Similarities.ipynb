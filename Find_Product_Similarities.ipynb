{
 "cells": [
  {
   "cell_type": "code",
   "execution_count": 8,
   "id": "48d4a531",
   "metadata": {},
   "outputs": [],
   "source": [
    "import pandas as pd"
   ]
  },
  {
   "cell_type": "code",
   "execution_count": 9,
   "id": "12314640",
   "metadata": {},
   "outputs": [],
   "source": [
    "#String difference function\n",
    "from difflib import SequenceMatcher\n",
    "\n",
    "def similar(a, b):\n",
    "    return SequenceMatcher(None, a, b).ratio()"
   ]
  },
  {
   "cell_type": "code",
   "execution_count": 14,
   "id": "0749a64e",
   "metadata": {},
   "outputs": [],
   "source": [
    "data = pd.read_csv('coffee_database - Copy.csv')"
   ]
  },
  {
   "cell_type": "code",
   "execution_count": 11,
   "id": "18cd3e66",
   "metadata": {},
   "outputs": [],
   "source": [
    "pd.set_option('display.max_rows', None)"
   ]
  },
  {
   "cell_type": "code",
   "execution_count": null,
   "id": "d72e99a3",
   "metadata": {},
   "outputs": [],
   "source": [
    "#Display the data\n",
    "data"
   ]
  },
  {
   "cell_type": "code",
   "execution_count": null,
   "id": "ddaed12b",
   "metadata": {},
   "outputs": [],
   "source": [
    "highest_value_tesco = 0\n",
    "highest_value_morrisons = 0\n",
    "highest_value_waitrose = 0\n",
    "highest_value_sainsburys = 0\n",
    "\n",
    "highest_pair_tesco = {}\n",
    "highest_pair_morrisons = {}\n",
    "highest_pair_waitrose = {}\n",
    "highest_pair_sainsburys = {}\n",
    "\n",
    "highest_pair_id_tesco = -1\n",
    "highest_pair_id_morrisons = -1\n",
    "highest_pair_id_waitrose = -1\n",
    "highest_pair_id_sainsburys = -1\n",
    "\n",
    "for i in range(len(data)):\n",
    "    print(\"Tesco: \", highest_pair_tesco, \"= \", highest_value_tesco, highest_pair_id_tesco)\n",
    "    data.at[i-1, 'tesco_match'] = highest_pair_id_tesco\n",
    "    \n",
    "    print(\"Morrisons: \", highest_pair_morrisons, \"= \", highest_value_morrisons)\n",
    "    data.at[i-1, 'morrisons_match'] = highest_pair_id_morrisons\n",
    "    \n",
    "    print(\"Waitrose: \", highest_pair_waitrose, \"= \", highest_value_waitrose)\n",
    "    data.at[i-1, 'waitrose_match'] = highest_pair_id_waitrose\n",
    "    \n",
    "    print(\"Sainsburys: \", highest_pair_sainsburys, \"= \", highest_value_sainsburys)\n",
    "    data.at[i-1, 'sainsburys_match'] = highest_pair_id_sainsburys\n",
    "    \n",
    "    #Reset values\n",
    "    highest_pair_tesco.clear()\n",
    "    highest_value_tesco = 0\n",
    "    \n",
    "    highest_pair_morrisons.clear()\n",
    "    highest_value_morrisons = 0\n",
    "    \n",
    "    highest_pair_waitrose.clear()\n",
    "    highest_value_waitrose = 0\n",
    "    \n",
    "    highest_pair_sainsburys.clear()\n",
    "    highest_value_sainsburys = 0\n",
    "    \n",
    "    highest_pair_id_tesco = -1\n",
    "    highest_pair_id_sainsburys = -1\n",
    "    highest_pair_id_morrisons = -1\n",
    "    highest_pair_id_waitrose = -1\n",
    "    \n",
    "    for j in range(len(data)):\n",
    "        #Make sure same stores aren't compared\n",
    "        if (data.iloc[i][3] != data.iloc[j][3]):\n",
    "            \n",
    "            if (data.iloc[j][3] == \"Tesco\"):\n",
    "                if (similar(data.iloc[i][1], data.iloc[j][1])) > highest_value_tesco:\n",
    "                    highest_value_tesco = similar(data.iloc[i][1], data.iloc[j][1])\n",
    "                    highest_pair_tesco.update( {data.iloc[i][1] : data.iloc[j][1]} )\n",
    "                    highest_pair_id_tesco = data.iloc[j][0]\n",
    "                    \n",
    "            if (data.iloc[j][3] == \"Morrisons\"):\n",
    "                if (similar(data.iloc[i][1], data.iloc[j][1])) > highest_value_morrisons:\n",
    "                    highest_value_morrisons = similar(data.iloc[i][1], data.iloc[j][1])\n",
    "                    highest_pair_morrisons.update( {data.iloc[i][1] : data.iloc[j][1]} )\n",
    "                    highest_pair_id_morrisons = data.iloc[j][0]\n",
    "                    \n",
    "            if (data.iloc[j][3] == \"Waitrose\"):\n",
    "                if (similar(data.iloc[i][1], data.iloc[j][1])) > highest_value_waitrose:\n",
    "                    highest_value_waitrose = similar(data.iloc[i][1], data.iloc[j][1])\n",
    "                    highest_pair_waitrose.update( {data.iloc[i][1] : data.iloc[j][1]} )\n",
    "                    highest_pair_id_waitrose = data.iloc[j][0]\n",
    "                    \n",
    "            if (data.iloc[j][3] == \"Sainsburys\"):\n",
    "                if (similar(data.iloc[i][1], data.iloc[j][1])) > highest_value_sainsburys:\n",
    "                    highest_value_sainsburys = similar(data.iloc[i][1], data.iloc[j][1])\n",
    "                    highest_pair_sainsburys.update( {data.iloc[i][1] : data.iloc[j][1]} )\n",
    "                    highest_pair_id_sainsburys = data.iloc[j][0]"
   ]
  },
  {
   "cell_type": "code",
   "execution_count": null,
   "id": "bcdf7218",
   "metadata": {},
   "outputs": [],
   "source": [
    "#Save the dataframe\n",
    "\n",
    "data.to_csv (r'C:\\Users', index = False, header=True)"
   ]
  }
 ],
 "metadata": {
  "kernelspec": {
   "display_name": "Python 3 (ipykernel)",
   "language": "python",
   "name": "python3"
  },
  "language_info": {
   "codemirror_mode": {
    "name": "ipython",
    "version": 3
   },
   "file_extension": ".py",
   "mimetype": "text/x-python",
   "name": "python",
   "nbconvert_exporter": "python",
   "pygments_lexer": "ipython3",
   "version": "3.9.7"
  }
 },
 "nbformat": 4,
 "nbformat_minor": 5
}
